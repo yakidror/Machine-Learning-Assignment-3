{
 "cells": [
  {
   "cell_type": "markdown",
   "metadata": {},
   "source": [
    "# Assignment 3 - Text Analysis\n",
    "An explanation this assignment could be found in the .pdf explanation document"
   ]
  },
  {
   "cell_type": "markdown",
   "metadata": {},
   "source": [
    "\n",
    "## Materials to review for this assignment\n",
    "<h4>From Moodle:</h4> \n",
    "<h5><u>Review the notebooks regarding the following python topics</u>:</h5>\n",
    "<div class=\"alert alert-info\">\n",
    "&#x2714; <b>Working with strings</b> (tutorial notebook)<br/>\n",
    "&#x2714; <b>Text Analysis</b> (tutorial notebook)<br/>\n",
    "&#x2714; <b>Hebrew text analysis tools (tokenizer, wordnet)</b> (moodle example)<br/>\n",
    "&#x2714; <b>(brief review) All previous notebooks</b><br/>\n",
    "</div> \n",
    "<h5><u>Review the presentations regarding the following topics</u>:</h5>\n",
    "<div class=\"alert alert-info\">\n",
    "&#x2714; <b>Text Analysis</b> (lecture presentation)<br/>\n",
    "&#x2714; <b>(brief review) All other presentations</b><br/>\n",
    "</div>"
   ]
  },
  {
   "cell_type": "markdown",
   "metadata": {},
   "source": [
    "## Personal Details:"
   ]
  },
  {
   "cell_type": "code",
   "execution_count": 1,
   "metadata": {
    "tags": []
   },
   "outputs": [],
   "source": [
    "# Details Student 1:\n",
    "# Name: Yaki Dror\n",
    "# Details Student 2:\n"
   ]
  },
  {
   "cell_type": "markdown",
   "metadata": {},
   "source": [
    "## Preceding Step - import modules (packages)\n",
    "This step is necessary in order to use external modules (packages). <br/>"
   ]
  },
  {
   "cell_type": "code",
   "execution_count": 2,
   "metadata": {
    "tags": []
   },
   "outputs": [],
   "source": [
    "# --------------------------------------\n",
    "import pandas as pd\n",
    "import numpy as np\n",
    "# --------------------------------------\n",
    "\n",
    "\n",
    "# --------------------------------------\n",
    "# ------------- visualizations:\n",
    "import seaborn as sns\n",
    "import matplotlib.pyplot as plt\n",
    "from matplotlib.colors import ListedColormap\n",
    "# --------------------------------------\n",
    "\n",
    "\n",
    "# ---------------------------------------\n",
    "import sklearn\n",
    "from sklearn import preprocessing, metrics, pipeline, model_selection, feature_extraction \n",
    "from sklearn import naive_bayes, linear_model, svm, neural_network, neighbors, tree\n",
    "from sklearn import decomposition, cluster\n",
    "\n",
    "from sklearn.model_selection import train_test_split, cross_val_score, GridSearchCV \n",
    "from sklearn.pipeline import Pipeline\n",
    "from sklearn.metrics import accuracy_score, confusion_matrix\n",
    "from sklearn.metrics import precision_score, recall_score, f1_score\n",
    "from sklearn.metrics import mean_squared_error, r2_score, silhouette_score\n",
    "from sklearn.preprocessing import MinMaxScaler, StandardScaler, LabelEncoder\n",
    "\n",
    "from sklearn.svm import LinearSVC\n",
    "from sklearn.neural_network import MLPClassifier\n",
    "from sklearn.linear_model import Perceptron, SGDClassifier\n",
    "from sklearn.decomposition import PCA\n",
    "from sklearn.cluster import KMeans\n",
    "from sklearn.naive_bayes import MultinomialNB, GaussianNB\n",
    "from sklearn.neighbors import KNeighborsClassifier\n",
    "from sklearn.tree import DecisionTreeClassifier\n",
    "# ---------------------------------------\n",
    "\n",
    "\n",
    "# ----------------- output and visualizations: \n",
    "import warnings\n",
    "from sklearn.exceptions import ConvergenceWarning\n",
    "warnings.simplefilter(\"ignore\")\n",
    "warnings.simplefilter(action='ignore', category=FutureWarning)\n",
    "warnings.simplefilter(\"ignore\", category=ConvergenceWarning)\n",
    "# show several prints in one cell. This will allow us to condence every trick in one cell.\n",
    "from IPython.core.interactiveshell import InteractiveShell\n",
    "InteractiveShell.ast_node_interactivity = \"all\"\n",
    "%matplotlib inline\n",
    "pd.pandas.set_option('display.max_columns', None)\n",
    "pd.set_option('display.float_format', lambda x: '%.3f' % x)\n",
    "# ---------------------------------------"
   ]
  },
  {
   "cell_type": "markdown",
   "metadata": {},
   "source": [
    "### Text analysis and String manipulation imports:"
   ]
  },
  {
   "cell_type": "code",
   "execution_count": 3,
   "metadata": {
    "tags": []
   },
   "outputs": [],
   "source": [
    "# --------------------------------------\n",
    "# --------- Text analysis and Hebrew text analysis imports:\n",
    "# vectorizers:\n",
    "from sklearn.feature_extraction import text\n",
    "from sklearn.feature_extraction.text import CountVectorizer, TfidfVectorizer\n",
    "\n",
    "# regular expressions:\n",
    "import re\n",
    "# --------------------------------------"
   ]
  },
  {
   "cell_type": "markdown",
   "metadata": {},
   "source": [
    "### (optional) Hebrew text analysis - WordNet (for Hebrew)\n",
    "Note: the WordNet is not a must"
   ]
  },
  {
   "cell_type": "markdown",
   "metadata": {},
   "source": [
    "#### (optional) Only if you didn't install Wordnet (for Hebrew) use:"
   ]
  },
  {
   "cell_type": "code",
   "execution_count": 4,
   "metadata": {
    "tags": []
   },
   "outputs": [],
   "source": [
    "# word net installation:\n",
    "\n",
    "# unmark if you want to use and need to install\n",
    "# !pip install wn\n",
    "# !python -m wn download omw-he:1.4"
   ]
  },
  {
   "cell_type": "code",
   "execution_count": 5,
   "metadata": {
    "tags": []
   },
   "outputs": [],
   "source": [
    "# word net import:\n",
    "\n",
    "# unmark if you want to use:\n",
    "# import wn"
   ]
  },
  {
   "cell_type": "markdown",
   "metadata": {},
   "source": [
    "### (optional) Hebrew text analysis - hebrew_tokenizer (Tokenizer for Hebrew)\n",
    "Note: the hebrew_tokenizer is not a must"
   ]
  },
  {
   "cell_type": "markdown",
   "metadata": {},
   "source": [
    "#### (optional) Only if you didn't install hebrew_tokenizer use:"
   ]
  },
  {
   "cell_type": "code",
   "execution_count": 6,
   "metadata": {
    "tags": []
   },
   "outputs": [],
   "source": [
    "# Hebrew tokenizer installation:\n",
    "\n",
    "# unmark if you want to use and need to install:\n",
    "# !pip install hebrew_tokenizer"
   ]
  },
  {
   "cell_type": "code",
   "execution_count": 7,
   "metadata": {
    "tags": []
   },
   "outputs": [],
   "source": [
    "# Hebrew tokenizer import:\n",
    "\n",
    "# unmark if you want to use:\n",
    "# import hebrew_tokenizer as ht"
   ]
  },
  {
   "cell_type": "markdown",
   "metadata": {},
   "source": [
    "### Reading input files\n",
    "Reading input files for train annotated corpus (raw text data) corpus and for the test corpus"
   ]
  },
  {
   "cell_type": "code",
   "execution_count": 8,
   "metadata": {
    "tags": []
   },
   "outputs": [],
   "source": [
    "train_filename = 'annotated_corpus_for_train.csv'\n",
    "test_filename  = 'corpus_for_test.csv'\n",
    "df_train = pd.read_csv(train_filename, index_col=None, encoding='utf-8')\n",
    "df_test  = pd.read_csv(test_filename, index_col=None, encoding='utf-8')"
   ]
  },
  {
   "cell_type": "code",
   "execution_count": 9,
   "metadata": {
    "tags": []
   },
   "outputs": [
    {
     "data": {
      "text/html": [
       "<div>\n",
       "<style scoped>\n",
       "    .dataframe tbody tr th:only-of-type {\n",
       "        vertical-align: middle;\n",
       "    }\n",
       "\n",
       "    .dataframe tbody tr th {\n",
       "        vertical-align: top;\n",
       "    }\n",
       "\n",
       "    .dataframe thead th {\n",
       "        text-align: right;\n",
       "    }\n",
       "</style>\n",
       "<table border=\"1\" class=\"dataframe\">\n",
       "  <thead>\n",
       "    <tr style=\"text-align: right;\">\n",
       "      <th></th>\n",
       "      <th>story</th>\n",
       "      <th>gender</th>\n",
       "    </tr>\n",
       "  </thead>\n",
       "  <tbody>\n",
       "    <tr>\n",
       "      <th>0</th>\n",
       "      <td>כשחבר הזמין אותי לחול, לא באמת חשבתי שזה יקרה,...</td>\n",
       "      <td>m</td>\n",
       "    </tr>\n",
       "    <tr>\n",
       "      <th>1</th>\n",
       "      <td>לפני שהתגייסתי לצבא עשיתי כל מני מיונים ליחידו...</td>\n",
       "      <td>m</td>\n",
       "    </tr>\n",
       "    <tr>\n",
       "      <th>2</th>\n",
       "      <td>מאז שהתחילו הלימודים חלומו של כל סטודנט זה הפנ...</td>\n",
       "      <td>f</td>\n",
       "    </tr>\n",
       "    <tr>\n",
       "      <th>3</th>\n",
       "      <td>כשהייתי ילד, מטוסים היה הדבר שהכי ריתק אותי. ב...</td>\n",
       "      <td>m</td>\n",
       "    </tr>\n",
       "    <tr>\n",
       "      <th>4</th>\n",
       "      <td>‏הייתי מדריכה בכפר נוער ומתאם הכפר היינו צריכי...</td>\n",
       "      <td>f</td>\n",
       "    </tr>\n",
       "    <tr>\n",
       "      <th>5</th>\n",
       "      <td>לפני כ3 חודשים טסתי לרומא למשך שבוע. טסתי במטו...</td>\n",
       "      <td>f</td>\n",
       "    </tr>\n",
       "    <tr>\n",
       "      <th>6</th>\n",
       "      <td>אני כבר שנתיים נשוי והשנה אני ואישתי סוף סוף י...</td>\n",
       "      <td>m</td>\n",
       "    </tr>\n",
       "    <tr>\n",
       "      <th>7</th>\n",
       "      <td>השנה התחלנו שיפוץ בדירה שלנו בתל אביב. הדירה ה...</td>\n",
       "      <td>f</td>\n",
       "    </tr>\n",
       "  </tbody>\n",
       "</table>\n",
       "</div>"
      ],
      "text/plain": [
       "                                               story gender\n",
       "0  כשחבר הזמין אותי לחול, לא באמת חשבתי שזה יקרה,...      m\n",
       "1  לפני שהתגייסתי לצבא עשיתי כל מני מיונים ליחידו...      m\n",
       "2  מאז שהתחילו הלימודים חלומו של כל סטודנט זה הפנ...      f\n",
       "3  כשהייתי ילד, מטוסים היה הדבר שהכי ריתק אותי. ב...      m\n",
       "4  ‏הייתי מדריכה בכפר נוער ומתאם הכפר היינו צריכי...      f\n",
       "5  לפני כ3 חודשים טסתי לרומא למשך שבוע. טסתי במטו...      f\n",
       "6  אני כבר שנתיים נשוי והשנה אני ואישתי סוף סוף י...      m\n",
       "7  השנה התחלנו שיפוץ בדירה שלנו בתל אביב. הדירה ה...      f"
      ]
     },
     "execution_count": 9,
     "metadata": {},
     "output_type": "execute_result"
    },
    {
     "data": {
      "text/plain": [
       "(753, 2)"
      ]
     },
     "execution_count": 9,
     "metadata": {},
     "output_type": "execute_result"
    }
   ],
   "source": [
    "df_train.head(8)\n",
    "df_train.shape"
   ]
  },
  {
   "cell_type": "code",
   "execution_count": 10,
   "metadata": {
    "tags": []
   },
   "outputs": [
    {
     "data": {
      "text/html": [
       "<div>\n",
       "<style scoped>\n",
       "    .dataframe tbody tr th:only-of-type {\n",
       "        vertical-align: middle;\n",
       "    }\n",
       "\n",
       "    .dataframe tbody tr th {\n",
       "        vertical-align: top;\n",
       "    }\n",
       "\n",
       "    .dataframe thead th {\n",
       "        text-align: right;\n",
       "    }\n",
       "</style>\n",
       "<table border=\"1\" class=\"dataframe\">\n",
       "  <thead>\n",
       "    <tr style=\"text-align: right;\">\n",
       "      <th></th>\n",
       "      <th>test_example_id</th>\n",
       "      <th>story</th>\n",
       "    </tr>\n",
       "  </thead>\n",
       "  <tbody>\n",
       "    <tr>\n",
       "      <th>0</th>\n",
       "      <td>0</td>\n",
       "      <td>כל קיץ אני והמשפחה נוסעים לארצות הברית לוס אנג...</td>\n",
       "    </tr>\n",
       "    <tr>\n",
       "      <th>1</th>\n",
       "      <td>1</td>\n",
       "      <td>הגעתי לשירות המדינה אחרי שנתיים כפעיל בתנועת \"...</td>\n",
       "    </tr>\n",
       "    <tr>\n",
       "      <th>2</th>\n",
       "      <td>2</td>\n",
       "      <td>אחת האהבות הגדולות שלי אלו הכלבים שלי ושל אישת...</td>\n",
       "    </tr>\n",
       "  </tbody>\n",
       "</table>\n",
       "</div>"
      ],
      "text/plain": [
       "   test_example_id                                              story\n",
       "0                0  כל קיץ אני והמשפחה נוסעים לארצות הברית לוס אנג...\n",
       "1                1  הגעתי לשירות המדינה אחרי שנתיים כפעיל בתנועת \"...\n",
       "2                2  אחת האהבות הגדולות שלי אלו הכלבים שלי ושל אישת..."
      ]
     },
     "execution_count": 10,
     "metadata": {},
     "output_type": "execute_result"
    },
    {
     "data": {
      "text/plain": [
       "(323, 2)"
      ]
     },
     "execution_count": 10,
     "metadata": {},
     "output_type": "execute_result"
    }
   ],
   "source": [
    "df_test.head(3)\n",
    "df_test.shape"
   ]
  },
  {
   "cell_type": "markdown",
   "metadata": {},
   "source": [
    "### Your implementation:\n",
    "Write your code solution in the following code-cells"
   ]
  },
  {
   "cell_type": "markdown",
   "metadata": {
    "tags": []
   },
   "source": [
    "### PreprocessText function:\n",
    "prepares input text for analysis by:\n",
    "1. Converting to lowercase.\n",
    "2. Removing non-Hebrew, non-English characters.\n",
    "3. Eliminating extra spaces and line breaks."
   ]
  },
  {
   "cell_type": "code",
   "execution_count": 11,
   "metadata": {
    "tags": []
   },
   "outputs": [],
   "source": [
    "def PreprocessText(text):\n",
    "    # Convert to lowercase\n",
    "    text = text.lower()\n",
    "    \n",
    "    # Remove special characters, numbers, and symbols\n",
    "    text = re.sub(r'[^\\u0590-\\u05FFa-zA-Z\\s]', '', text)\n",
    "    \n",
    "    # Remove extra spaces and line breaks\n",
    "    text = ' '.join(text.split())\n",
    " \n",
    "    return text"
   ]
  },
  {
   "cell_type": "markdown",
   "metadata": {},
   "source": [
    "### TrainGenderClassifier Function:\n",
    "Train a gender classification model based on the provided training data by performing the following steps:\n",
    "\n",
    "1. Load Training Data - Reads the training data from a CSV file using the provided filename.\n",
    "\n",
    "2. Preprocess Text - Applies a preprocessing function (PreprocessText) to clean and prepare the text data within the 'story' column of the training data.\n",
    "\n",
    "3. Feature Extraction - Utilizes TF-IDF (Term Frequency-Inverse Document Frequency) vectorization to convert the preprocessed text data into numerical feature vectors.\n",
    "\n",
    "4. Label Encoding - Encodes the gender labels ('m' and 'f') into numeric values using label encoding.\n",
    "\n",
    "5. Hyperparameter Tuning - Performs hyperparameter tuning for the Linear Support Vector Classifier (LinearSVC) using a grid search with cross-validation. It searches for the optimal 'C' parameter value among [0.1, 1, 10] to improve model performance.\n",
    "\n",
    "6. Model Training - Trains the LinearSVC model with the best hyperparameters identified from the grid search.\n",
    "\n",
    "7. Output - Returns the trained classifier (best_svc), TF-IDF vectorizer (tfidf_vectorizer), and label encoder (label_encoder) for later use in gender prediction.\n",
    "\n",
    "##### Overall, the function prepares and trains a gender classification model using the provided training data, employing preprocessing, feature extraction, label encoding, and hyperparameter tuning techniques to achieve improved performance."
   ]
  },
  {
   "cell_type": "code",
   "execution_count": 12,
   "metadata": {
    "tags": []
   },
   "outputs": [],
   "source": [
    "def TrainGenderClassifier(train_filename):\n",
    "    # Load the training data\n",
    "    df_train = pd.read_csv(train_filename, index_col=None, encoding='utf-8')\n",
    "    \n",
    "    # Preprocess the text\n",
    "    df_train['preprocessed_text'] = df_train['story'].apply(PreprocessText)\n",
    "    \n",
    "    # Feature Extraction using TF-IDF\n",
    "    tfidf_vectorizer = TfidfVectorizer()\n",
    "    X_train_tfidf = tfidf_vectorizer.fit_transform(df_train['preprocessed_text'])\n",
    "    \n",
    "    # Label Encoding\n",
    "    label_encoder = LabelEncoder()\n",
    "    y_train_encoded = label_encoder.fit_transform(df_train['gender'])\n",
    "    \n",
    "    # Hyperparameter tuning for LinearSVC\n",
    "    param_grid = {'C': [0.1, 1, 10]}\n",
    "    svc = LinearSVC(max_iter=10000)\n",
    "    grid_search = GridSearchCV(svc, param_grid, cv=5)\n",
    "    grid_search.fit(X_train_tfidf, y_train_encoded)\n",
    "    \n",
    "    # Get the best classifier from the grid search\n",
    "    best_svc = grid_search.best_estimator_\n",
    "    \n",
    "    return best_svc, tfidf_vectorizer, label_encoder"
   ]
  },
  {
   "cell_type": "markdown",
   "metadata": {
    "tags": []
   },
   "source": [
    "### EvaluateModel Function:\n",
    "The EvaluateModel function assesses a trained gender classification model's performance using various metrics, including precision, recall, and F1 scores for both male and female gender predictions. It calculates an average F1 score for overall evaluation."
   ]
  },
  {
   "cell_type": "code",
   "execution_count": 13,
   "metadata": {
    "tags": []
   },
   "outputs": [
    {
     "name": "stdout",
     "output_type": "stream",
     "text": [
      "Precision: 0.998674284344105\n",
      "Recall: 0.99867197875166\n",
      "F1 Score: 0.9986731315465518\n",
      "F1 Score (Male): 0.999131190269331\n",
      "F1 Score (Female): 0.9971830985915493\n",
      "Average F1 Score: 0.9981571444304401\n"
     ]
    }
   ],
   "source": [
    "def EvaluateModel(train_filename):\n",
    "    # Train the model\n",
    "    trained_classifier, trained_tfidf_vectorizer, trained_label_encoder = TrainGenderClassifier(train_filename)\n",
    "    \n",
    "    # Load the training data\n",
    "    df_train = pd.read_csv(train_filename, index_col=None, encoding='utf-8')\n",
    "    \n",
    "    # Preprocess the text in the training data\n",
    "    df_train['preprocessed_text'] = df_train['story'].apply(PreprocessText)\n",
    "    \n",
    "    # Feature Extraction using TF-IDF\n",
    "    X_train_tfidf = trained_tfidf_vectorizer.transform(df_train['preprocessed_text'])\n",
    "    \n",
    "    # Predict gender using the trained model\n",
    "    y_train_pred_encoded = trained_classifier.predict(X_train_tfidf)\n",
    "    y_train_pred = trained_label_encoder.inverse_transform(y_train_pred_encoded)\n",
    "    \n",
    "    # Actual genders from the train data\n",
    "    y_train_actual = df_train['gender']\n",
    "    \n",
    "    # Calculate precision, recall, and F1 score\n",
    "    precision = precision_score(y_train_actual, y_train_pred, average='weighted')\n",
    "    recall = recall_score(y_train_actual, y_train_pred, average='weighted')\n",
    "    f1 = 2 * (precision * recall) / (precision + recall)\n",
    "    \n",
    "    precision_male = precision_score(y_train_actual, y_train_pred, average='binary', pos_label='m')\n",
    "    recall_male = recall_score(y_train_actual, y_train_pred, average='binary', pos_label='m')\n",
    "\n",
    "    # Calculate precision and recall for female as positive class and male as negative class\n",
    "    precision_female = precision_score(y_train_actual, y_train_pred, average='binary', pos_label='f')\n",
    "    recall_female = recall_score(y_train_actual, y_train_pred, average='binary', pos_label='f')\n",
    "\n",
    "    # Calculate F1 score for male as positive class and female as negative class\n",
    "    f1_male = 2 * (precision_male * recall_male) / (precision_male + recall_male)\n",
    "\n",
    "    # Calculate F1 score for female as positive class and male as negative class\n",
    "    f1_female = 2 * (precision_female * recall_female) / (precision_female + recall_female)\n",
    "    \n",
    "    # Calculate average F1 score\n",
    "    average_f1 = (f1_male + f1_female) / 2\n",
    "    \n",
    "    #print(\"Actual Genders:\", y_train_actual.tolist())\n",
    "    #print(\"Predicted Genders:\", y_train_pred.tolist())\n",
    "    print(\"Precision:\", precision)\n",
    "    print(\"Recall:\", recall)\n",
    "    print(\"F1 Score:\", f1)\n",
    "    print(\"F1 Score (Male):\", f1_male)\n",
    "    print(\"F1 Score (Female):\", f1_female)\n",
    "    print(\"Average F1 Score:\", average_f1)\n",
    "    \n",
    "# Evaluate the model on the training data\n",
    "EvaluateModel('annotated_corpus_for_train.csv')"
   ]
  },
  {
   "cell_type": "markdown",
   "metadata": {},
   "source": [
    "### TestGenderClassifier Function:\n",
    "Employs a trained gender classification model to predict genders based on input test data.\n",
    "It preprocess the text, convert it into feature vectors, make predictions, and convert encoded predictions back to original labels.\n",
    "The function returns the predicted genders for the test data."
   ]
  },
  {
   "cell_type": "code",
   "execution_count": 14,
   "metadata": {
    "tags": []
   },
   "outputs": [],
   "source": [
    "def TestGenderClassifier(classifier, tfidf_vectorizer, label_encoder, test_filename):\n",
    "    df_test = pd.read_csv(test_filename, index_col=None, encoding='utf-8')\n",
    "    \n",
    "    df_test['preprocessed_text'] = df_test['story'].apply(PreprocessText)\n",
    "    \n",
    "    X_test_tfidf = tfidf_vectorizer.transform(df_test['preprocessed_text'])\n",
    "    \n",
    "    y_pred_encoded = classifier.predict(X_test_tfidf)\n",
    "    \n",
    "    y_pred = label_encoder.inverse_transform(y_pred_encoded)\n",
    "    \n",
    "    return y_pred"
   ]
  },
  {
   "cell_type": "markdown",
   "metadata": {},
   "source": [
    "### PredictGender Function:\n",
    "Uses a trained classifier to predict genders for test data. It loads the classifier and related tools, makes predictions, creates a DataFrame with predictions, and displays the first and last 5 predictions."
   ]
  },
  {
   "cell_type": "code",
   "execution_count": 15,
   "metadata": {
    "tags": []
   },
   "outputs": [
    {
     "name": "stdout",
     "output_type": "stream",
     "text": [
      "First 5 predictions:\n",
      "   test_example_id predicted_gender\n",
      "0                0                m\n",
      "1                1                m\n",
      "2                2                m\n",
      "3                3                m\n",
      "4                4                m\n",
      "\n",
      "Last 5 predictions:\n",
      "     test_example_id predicted_gender\n",
      "318              318                m\n",
      "319              319                m\n",
      "320              320                m\n",
      "321              321                m\n",
      "322              322                m\n"
     ]
    }
   ],
   "source": [
    "def PredictGender():\n",
    "    # Load the trained classifier, vectorizer, and label encoder\n",
    "    trained_classifier, trained_tfidf_vectorizer, trained_label_encoder = TrainGenderClassifier('annotated_corpus_for_train.csv')\n",
    "\n",
    "    # Use the TestGenderClassifier function to predict gender\n",
    "    predictions = TestGenderClassifier(trained_classifier, trained_tfidf_vectorizer, trained_label_encoder, 'corpus_for_test.csv')\n",
    "\n",
    "    # Create a DataFrame to store predictions\n",
    "    df_predicted = pd.DataFrame({'test_example_id': df_test['test_example_id'], 'predicted_gender': predictions})\n",
    "    \n",
    "    # Print the first 5 and last 5 predictions\n",
    "    print(\"First 5 predictions:\")\n",
    "    print(df_predicted.head())\n",
    "    print(\"\\nLast 5 predictions:\")\n",
    "    print(df_predicted.tail())\n",
    "    \n",
    "    return df_predicted\n",
    "\n",
    "df_predicted = PredictGender()"
   ]
  },
  {
   "cell_type": "markdown",
   "metadata": {},
   "source": [
    "### Save output to csv (optional)\n",
    "After you're done save your output to the 'classification_results.csv' csv file.<br/>\n",
    "We assume that the dataframe with your results contain the following columns:\n",
    "* column 1 (left column): 'test_example_id'  - the same id associated to each of the test stories to be predicted.\n",
    "* column 2 (right column): 'predicted_category' - the predicted gender value for each of the associated story. \n",
    "\n",
    "Assuming your predicted values are in the `df_predicted` dataframe, you should save you're results as following:"
   ]
  },
  {
   "cell_type": "code",
   "execution_count": 16,
   "metadata": {
    "tags": []
   },
   "outputs": [],
   "source": [
    "df_predicted.to_csv('classification_results.csv',index=False)"
   ]
  }
 ],
 "metadata": {
  "celltoolbar": "Create Assignment",
  "kernelspec": {
   "display_name": "Python 3 (ipykernel)",
   "language": "python",
   "name": "python3"
  },
  "language_info": {
   "codemirror_mode": {
    "name": "ipython",
    "version": 3
   },
   "file_extension": ".py",
   "mimetype": "text/x-python",
   "name": "python",
   "nbconvert_exporter": "python",
   "pygments_lexer": "ipython3",
   "version": "3.11.4"
  }
 },
 "nbformat": 4,
 "nbformat_minor": 4
}
